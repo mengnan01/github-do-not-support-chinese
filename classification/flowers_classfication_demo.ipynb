{
 "cells": [
  {
   "cell_type": "code",
   "execution_count": 2,
   "id": "7d774bdc",
   "metadata": {},
   "outputs": [],
   "source": [
    "import tensorflow as tf"
   ]
  },
  {
   "cell_type": "code",
   "execution_count": 3,
   "id": "068fe0f5",
   "metadata": {},
   "outputs": [],
   "source": [
    "from tensorflow.keras.models import Sequential\n",
    "from tensorflow.keras.layers import Conv2D,MaxPool2D,BatchNormalization,Flatten,Dense\n",
    "from tensorflow.keras.optimizers import Adam\n",
    "from tensorflow.keras.preprocessing.image import ImageDataGenerator\n",
    "import matplotlib.pyplot as plt"
   ]
  },
  {
   "cell_type": "markdown",
   "id": "5a4dab24",
   "metadata": {},
   "source": [
    "Using ImageDataGenerator class to preprocess data from directory\n",
    "Standard images' pixels from 0 to 1. Split flowers dataset into train set and validation set."
   ]
  },
  {
   "cell_type": "code",
   "execution_count": 5,
   "id": "d402d711",
   "metadata": {},
   "outputs": [
    {
     "name": "stdout",
     "output_type": "stream",
     "text": [
      "Found 3028 images belonging to 5 classes.\n",
      "Found 1295 images belonging to 5 classes.\n"
     ]
    }
   ],
   "source": [
    "train_datagen = ImageDataGenerator(\n",
    "        rescale=1./255,\n",
    "        shear_range=0.2,\n",
    "        zoom_range=0.2,\n",
    "        validation_split = 0.3,\n",
    "        horizontal_flip=True)\n",
    "\n",
    "train_generator = train_datagen.flow_from_directory(\n",
    "        'flowers',\n",
    "        target_size=(230, 230),\n",
    "        batch_size=256,\n",
    "        class_mode='categorical',\n",
    "        subset='training')\n",
    "\n",
    "valid_generator = train_datagen.flow_from_directory(\n",
    "        'flowers', \n",
    "        target_size=(230, 230),\n",
    "        batch_size=256,\n",
    "        class_mode='categorical',\n",
    "        subset='validation') "
   ]
  },
  {
   "cell_type": "markdown",
   "id": "199008a6",
   "metadata": {},
   "source": [
    "Just build a CNN consisting of a convolutional layer, a pooling layer, and a batch normalization layer, and finally use Faltten to flatten the tensor in Latent Space, and finally use Softmax to predict the result."
   ]
  },
  {
   "cell_type": "code",
   "execution_count": 4,
   "id": "15dcb797",
   "metadata": {},
   "outputs": [],
   "source": [
    "model = Sequential()\n",
    "\n",
    "model.add(Conv2D(32,(3,3),activation='relu',input_shape=(230,230,3)))\n",
    "model.add(MaxPool2D(pool_size=(2, 2)))\n",
    "model.add(BatchNormalization())\n",
    "\n",
    "model.add(Conv2D(64,(3,3),activation='relu'))\n",
    "model.add(MaxPool2D(pool_size=(2, 2)))\n",
    "model.add(BatchNormalization())\n",
    "\n",
    "model.add(Conv2D(32,(3,3),activation='relu'))\n",
    "model.add(MaxPool2D(pool_size=(2, 2)))\n",
    "model.add(BatchNormalization())\n",
    "model.add(Flatten())\n",
    "\n",
    "model.add(Dense(256,activation='relu'))\n",
    "model.add(Dense(5,activation='softmax'))"
   ]
  },
  {
   "cell_type": "code",
   "execution_count": 5,
   "id": "15e4131d",
   "metadata": {},
   "outputs": [
    {
     "name": "stdout",
     "output_type": "stream",
     "text": [
      "Model: \"sequential\"\n",
      "_________________________________________________________________\n",
      "Layer (type)                 Output Shape              Param #   \n",
      "=================================================================\n",
      "conv2d (Conv2D)              (None, 228, 228, 32)      896       \n",
      "_________________________________________________________________\n",
      "max_pooling2d (MaxPooling2D) (None, 114, 114, 32)      0         \n",
      "_________________________________________________________________\n",
      "batch_normalization (BatchNo (None, 114, 114, 32)      128       \n",
      "_________________________________________________________________\n",
      "conv2d_1 (Conv2D)            (None, 112, 112, 64)      18496     \n",
      "_________________________________________________________________\n",
      "max_pooling2d_1 (MaxPooling2 (None, 56, 56, 64)        0         \n",
      "_________________________________________________________________\n",
      "batch_normalization_1 (Batch (None, 56, 56, 64)        256       \n",
      "_________________________________________________________________\n",
      "conv2d_2 (Conv2D)            (None, 54, 54, 32)        18464     \n",
      "_________________________________________________________________\n",
      "max_pooling2d_2 (MaxPooling2 (None, 27, 27, 32)        0         \n",
      "_________________________________________________________________\n",
      "batch_normalization_2 (Batch (None, 27, 27, 32)        128       \n",
      "_________________________________________________________________\n",
      "flatten (Flatten)            (None, 23328)             0         \n",
      "_________________________________________________________________\n",
      "dense (Dense)                (None, 256)               5972224   \n",
      "_________________________________________________________________\n",
      "dense_1 (Dense)              (None, 5)                 1285      \n",
      "=================================================================\n",
      "Total params: 6,011,877\n",
      "Trainable params: 6,011,621\n",
      "Non-trainable params: 256\n",
      "_________________________________________________________________\n"
     ]
    }
   ],
   "source": [
    "model.summary()"
   ]
  },
  {
   "cell_type": "markdown",
   "id": "7a880e2b",
   "metadata": {},
   "source": [
    "Final step is to complie and fit model."
   ]
  },
  {
   "cell_type": "code",
   "execution_count": 6,
   "id": "a7816d97",
   "metadata": {},
   "outputs": [],
   "source": [
    "model.compile(loss='categorical_crossentropy', \n",
    "              optimizer=Adam(learning_rate=0.0001),\n",
    "              metrics=['accuracy'])"
   ]
  },
  {
   "cell_type": "code",
   "execution_count": 7,
   "id": "7e6e27ca",
   "metadata": {},
   "outputs": [
    {
     "name": "stderr",
     "output_type": "stream",
     "text": [
      "D:\\Anaconda3\\lib\\site-packages\\tensorflow\\python\\keras\\engine\\training.py:1940: UserWarning: `Model.fit_generator` is deprecated and will be removed in a future version. Please use `Model.fit`, which supports generators.\n",
      "  warnings.warn('`Model.fit_generator` is deprecated and '\n"
     ]
    },
    {
     "name": "stdout",
     "output_type": "stream",
     "text": [
      "Epoch 1/50\n",
      "12/12 [==============================] - 38s 3s/step - loss: 1.5295 - accuracy: 0.4581 - val_loss: 1.5629 - val_accuracy: 0.2880\n",
      "Epoch 2/50\n",
      "12/12 [==============================] - 33s 3s/step - loss: 1.0524 - accuracy: 0.6110 - val_loss: 1.6227 - val_accuracy: 0.2440\n",
      "Epoch 3/50\n",
      "12/12 [==============================] - 33s 3s/step - loss: 0.8896 - accuracy: 0.6674 - val_loss: 1.8059 - val_accuracy: 0.2432\n",
      "Epoch 4/50\n",
      "12/12 [==============================] - 33s 3s/step - loss: 0.7653 - accuracy: 0.7147 - val_loss: 1.8128 - val_accuracy: 0.2432\n",
      "Epoch 5/50\n",
      "12/12 [==============================] - 33s 3s/step - loss: 0.6938 - accuracy: 0.7384 - val_loss: 2.1960 - val_accuracy: 0.2432\n",
      "Epoch 6/50\n",
      "12/12 [==============================] - 33s 3s/step - loss: 0.6109 - accuracy: 0.7734 - val_loss: 2.3769 - val_accuracy: 0.2432\n",
      "Epoch 7/50\n",
      "12/12 [==============================] - 33s 3s/step - loss: 0.5512 - accuracy: 0.8025 - val_loss: 2.4387 - val_accuracy: 0.2432\n",
      "Epoch 8/50\n",
      "12/12 [==============================] - 33s 3s/step - loss: 0.5324 - accuracy: 0.8081 - val_loss: 2.8434 - val_accuracy: 0.2432\n",
      "Epoch 9/50\n",
      "12/12 [==============================] - 33s 3s/step - loss: 0.4571 - accuracy: 0.8352 - val_loss: 3.2808 - val_accuracy: 0.2432\n",
      "Epoch 10/50\n",
      "12/12 [==============================] - 33s 3s/step - loss: 0.4402 - accuracy: 0.8411 - val_loss: 3.7974 - val_accuracy: 0.2432\n",
      "Epoch 11/50\n",
      "12/12 [==============================] - 33s 3s/step - loss: 0.3876 - accuracy: 0.8639 - val_loss: 4.3334 - val_accuracy: 0.2432\n",
      "Epoch 12/50\n",
      "12/12 [==============================] - 33s 3s/step - loss: 0.3517 - accuracy: 0.8755 - val_loss: 4.1353 - val_accuracy: 0.2432\n",
      "Epoch 13/50\n",
      "12/12 [==============================] - 33s 3s/step - loss: 0.3327 - accuracy: 0.8887 - val_loss: 5.1057 - val_accuracy: 0.2432\n",
      "Epoch 14/50\n",
      "12/12 [==============================] - 33s 3s/step - loss: 0.3262 - accuracy: 0.8831 - val_loss: 4.9542 - val_accuracy: 0.2432\n",
      "Epoch 15/50\n",
      "12/12 [==============================] - 33s 3s/step - loss: 0.2714 - accuracy: 0.9151 - val_loss: 3.8847 - val_accuracy: 0.2432\n",
      "Epoch 16/50\n",
      "12/12 [==============================] - 33s 3s/step - loss: 0.2635 - accuracy: 0.9148 - val_loss: 4.3066 - val_accuracy: 0.2432\n",
      "Epoch 17/50\n",
      "12/12 [==============================] - 33s 3s/step - loss: 0.2413 - accuracy: 0.9237 - val_loss: 4.2520 - val_accuracy: 0.2432\n",
      "Epoch 18/50\n",
      "12/12 [==============================] - 33s 3s/step - loss: 0.2252 - accuracy: 0.9333 - val_loss: 4.1712 - val_accuracy: 0.2432\n",
      "Epoch 19/50\n",
      "12/12 [==============================] - 33s 3s/step - loss: 0.2103 - accuracy: 0.9336 - val_loss: 4.2009 - val_accuracy: 0.2432\n",
      "Epoch 20/50\n",
      "12/12 [==============================] - 33s 3s/step - loss: 0.1979 - accuracy: 0.9452 - val_loss: 4.7816 - val_accuracy: 0.2432\n",
      "Epoch 21/50\n",
      "12/12 [==============================] - 33s 3s/step - loss: 0.1712 - accuracy: 0.9498 - val_loss: 3.9330 - val_accuracy: 0.2432\n",
      "Epoch 22/50\n",
      "12/12 [==============================] - 33s 3s/step - loss: 0.1574 - accuracy: 0.9594 - val_loss: 3.9472 - val_accuracy: 0.2432\n",
      "Epoch 23/50\n",
      "12/12 [==============================] - 33s 3s/step - loss: 0.1521 - accuracy: 0.9627 - val_loss: 4.0252 - val_accuracy: 0.2448\n",
      "Epoch 24/50\n",
      "12/12 [==============================] - 33s 3s/step - loss: 0.1422 - accuracy: 0.9666 - val_loss: 3.4661 - val_accuracy: 0.2610\n",
      "Epoch 25/50\n",
      "12/12 [==============================] - 33s 3s/step - loss: 0.1365 - accuracy: 0.9627 - val_loss: 3.0280 - val_accuracy: 0.2811\n",
      "Epoch 26/50\n",
      "12/12 [==============================] - 33s 3s/step - loss: 0.1293 - accuracy: 0.9683 - val_loss: 2.9066 - val_accuracy: 0.2911\n",
      "Epoch 27/50\n",
      "12/12 [==============================] - 33s 3s/step - loss: 0.1119 - accuracy: 0.9782 - val_loss: 2.5873 - val_accuracy: 0.3444\n",
      "Epoch 28/50\n",
      "12/12 [==============================] - 33s 3s/step - loss: 0.1148 - accuracy: 0.9716 - val_loss: 2.0108 - val_accuracy: 0.4062\n",
      "Epoch 29/50\n",
      "12/12 [==============================] - 33s 3s/step - loss: 0.1087 - accuracy: 0.9759 - val_loss: 2.5924 - val_accuracy: 0.3629\n",
      "Epoch 30/50\n",
      "12/12 [==============================] - 33s 3s/step - loss: 0.1004 - accuracy: 0.9779 - val_loss: 2.3390 - val_accuracy: 0.3954\n",
      "Epoch 31/50\n",
      "12/12 [==============================] - 33s 3s/step - loss: 0.1055 - accuracy: 0.9752 - val_loss: 2.1139 - val_accuracy: 0.4255\n",
      "Epoch 32/50\n",
      "12/12 [==============================] - 33s 3s/step - loss: 0.0937 - accuracy: 0.9805 - val_loss: 1.7502 - val_accuracy: 0.4672\n",
      "Epoch 33/50\n",
      "12/12 [==============================] - 33s 3s/step - loss: 0.0906 - accuracy: 0.9799 - val_loss: 1.8060 - val_accuracy: 0.4764\n",
      "Epoch 34/50\n",
      "12/12 [==============================] - 33s 3s/step - loss: 0.0782 - accuracy: 0.9838 - val_loss: 1.8474 - val_accuracy: 0.4873\n",
      "Epoch 35/50\n",
      "12/12 [==============================] - 33s 3s/step - loss: 0.0743 - accuracy: 0.9865 - val_loss: 1.6936 - val_accuracy: 0.4988\n",
      "Epoch 36/50\n",
      "12/12 [==============================] - 33s 3s/step - loss: 0.0688 - accuracy: 0.9881 - val_loss: 1.7485 - val_accuracy: 0.5197\n",
      "Epoch 37/50\n",
      "12/12 [==============================] - 33s 3s/step - loss: 0.0718 - accuracy: 0.9848 - val_loss: 1.6680 - val_accuracy: 0.5382\n",
      "Epoch 38/50\n",
      "12/12 [==============================] - 33s 3s/step - loss: 0.0737 - accuracy: 0.9818 - val_loss: 1.5476 - val_accuracy: 0.5290\n",
      "Epoch 39/50\n",
      "12/12 [==============================] - 33s 3s/step - loss: 0.0576 - accuracy: 0.9934 - val_loss: 1.5251 - val_accuracy: 0.5452\n",
      "Epoch 40/50\n",
      "12/12 [==============================] - 33s 3s/step - loss: 0.0605 - accuracy: 0.9894 - val_loss: 1.4907 - val_accuracy: 0.5506\n",
      "Epoch 41/50\n",
      "12/12 [==============================] - 33s 3s/step - loss: 0.0572 - accuracy: 0.9911 - val_loss: 1.5138 - val_accuracy: 0.5691\n",
      "Epoch 42/50\n",
      "12/12 [==============================] - 33s 3s/step - loss: 0.0535 - accuracy: 0.9924 - val_loss: 1.3984 - val_accuracy: 0.5753\n",
      "Epoch 43/50\n",
      "12/12 [==============================] - 33s 3s/step - loss: 0.0505 - accuracy: 0.9911 - val_loss: 1.3935 - val_accuracy: 0.5830\n",
      "Epoch 44/50\n",
      "12/12 [==============================] - 33s 3s/step - loss: 0.0521 - accuracy: 0.9908 - val_loss: 1.4345 - val_accuracy: 0.5815\n",
      "Epoch 45/50\n",
      "12/12 [==============================] - 33s 3s/step - loss: 0.0547 - accuracy: 0.9911 - val_loss: 1.3002 - val_accuracy: 0.6093\n",
      "Epoch 46/50\n",
      "12/12 [==============================] - 33s 3s/step - loss: 0.0426 - accuracy: 0.9960 - val_loss: 1.3737 - val_accuracy: 0.5846\n",
      "Epoch 47/50\n",
      "12/12 [==============================] - 33s 3s/step - loss: 0.0419 - accuracy: 0.9947 - val_loss: 1.3067 - val_accuracy: 0.6286\n",
      "Epoch 48/50\n",
      "12/12 [==============================] - 33s 3s/step - loss: 0.0452 - accuracy: 0.9924 - val_loss: 1.2780 - val_accuracy: 0.6255\n",
      "Epoch 49/50\n",
      "12/12 [==============================] - 33s 3s/step - loss: 0.0457 - accuracy: 0.9931 - val_loss: 1.3561 - val_accuracy: 0.6124\n",
      "Epoch 50/50\n",
      "12/12 [==============================] - 33s 3s/step - loss: 0.0419 - accuracy: 0.9921 - val_loss: 1.2585 - val_accuracy: 0.6317\n"
     ]
    }
   ],
   "source": [
    "history = model.fit_generator(train_generator, epochs=50, verbose=1, callbacks=None,validation_data=valid_generator)"
   ]
  },
  {
   "cell_type": "code",
   "execution_count": 8,
   "id": "cffd8666",
   "metadata": {},
   "outputs": [],
   "source": [
    "model.save('flowers_classification.h5')"
   ]
  },
  {
   "cell_type": "markdown",
   "id": "48b618b4",
   "metadata": {},
   "source": [
    "Using plt to visualize model's training process. And find model just overfitting."
   ]
  },
  {
   "cell_type": "code",
   "execution_count": 10,
   "id": "1026a38a",
   "metadata": {},
   "outputs": [
    {
     "data": {
      "image/png": "[encoded data removed]",
      "text/plain": [
       "<Figure size 432x288 with 1 Axes>"
      ]
     },
     "metadata": {
      "needs_background": "light"
     },
     "output_type": "display_data"
    },
    {
     "data": {
      "image/png": "[encoded data removed]",
      "text/plain": [
       "<Figure size 432x288 with 1 Axes>"
      ]
     },
     "metadata": {
      "needs_background": "light"
     },
     "output_type": "display_data"
    }
   ],
   "source": [
    "import matplotlib.pyplot as plt\n",
    "\n",
    "acc = history.history['accuracy']\n",
    "val_acc = history.history['val_accuracy']\n",
    "loss = history.history['loss']\n",
    "val_loss = history.history['val_loss']\n",
    "\n",
    "epochs = range(1, len(acc) + 1)\n",
    "\n",
    "plt.plot(epochs, acc, 'pink', label='Training acc') \n",
    "plt.plot(epochs, val_acc, 'b', label='Validation acc') \n",
    "plt.title('Training and validation accuracy')\n",
    "plt.legend()\n",
    "    \n",
    "plt.figure()\n",
    "\n",
    "plt.plot(epochs, loss, 'pink', label='Training loss') \n",
    "plt.plot(epochs, val_loss, 'b', label='Validation loss') \n",
    "plt.title('Training and validation loss')\n",
    "plt.legend()\n",
    "\n",
    "plt.show()"
   ]
  },
  {
   "cell_type": "markdown",
   "id": "95513d7b",
   "metadata": {},
   "source": [
    "Using load_model function to retrain model"
   ]
  },
  {
   "cell_type": "code",
   "execution_count": 11,
   "id": "0b412f14",
   "metadata": {},
   "outputs": [],
   "source": [
    "new_model = tf.keras.models.load_model('flowers_classification.h5')"
   ]
  },
  {
   "cell_type": "code",
   "execution_count": 12,
   "id": "d7898582",
   "metadata": {},
   "outputs": [
    {
     "name": "stdout",
     "output_type": "stream",
     "text": [
      "Epoch 1/50\n",
      "12/12 [==============================] - 35s 3s/step - loss: 0.0380 - accuracy: 0.9967 - val_loss: 1.2866 - val_accuracy: 0.6533\n",
      "Epoch 2/50\n",
      "12/12 [==============================] - 33s 3s/step - loss: 0.0357 - accuracy: 0.9947 - val_loss: 1.2893 - val_accuracy: 0.6378\n",
      "Epoch 3/50\n",
      "12/12 [==============================] - 33s 3s/step - loss: 0.0288 - accuracy: 0.9977 - val_loss: 1.3337 - val_accuracy: 0.6332\n",
      "Epoch 4/50\n",
      "12/12 [==============================] - 33s 3s/step - loss: 0.0286 - accuracy: 0.9970 - val_loss: 1.3295 - val_accuracy: 0.6378\n",
      "Epoch 5/50\n",
      "12/12 [==============================] - 33s 3s/step - loss: 0.0304 - accuracy: 0.9957 - val_loss: 1.2504 - val_accuracy: 0.6741\n",
      "Epoch 6/50\n",
      "12/12 [==============================] - 33s 3s/step - loss: 0.0273 - accuracy: 0.9974 - val_loss: 1.2353 - val_accuracy: 0.6664\n",
      "Epoch 7/50\n",
      "12/12 [==============================] - 33s 3s/step - loss: 0.0302 - accuracy: 0.9964 - val_loss: 1.3063 - val_accuracy: 0.6633\n",
      "Epoch 8/50\n",
      "12/12 [==============================] - 33s 3s/step - loss: 0.0272 - accuracy: 0.9983 - val_loss: 1.2966 - val_accuracy: 0.6687\n",
      "Epoch 9/50\n",
      "12/12 [==============================] - 33s 3s/step - loss: 0.0309 - accuracy: 0.9964 - val_loss: 1.2765 - val_accuracy: 0.6672\n",
      "Epoch 10/50\n",
      "12/12 [==============================] - 33s 3s/step - loss: 0.0289 - accuracy: 0.9970 - val_loss: 1.2588 - val_accuracy: 0.6811\n",
      "Epoch 11/50\n",
      "12/12 [==============================] - 33s 3s/step - loss: 0.0267 - accuracy: 0.9970 - val_loss: 1.3509 - val_accuracy: 0.6633\n",
      "Epoch 12/50\n",
      "12/12 [==============================] - 33s 3s/step - loss: 0.0259 - accuracy: 0.9980 - val_loss: 1.3035 - val_accuracy: 0.6749\n",
      "Epoch 13/50\n",
      "12/12 [==============================] - 33s 3s/step - loss: 0.0272 - accuracy: 0.9960 - val_loss: 1.3101 - val_accuracy: 0.6780\n",
      "Epoch 14/50\n",
      "12/12 [==============================] - 33s 3s/step - loss: 0.0229 - accuracy: 0.9980 - val_loss: 1.3233 - val_accuracy: 0.6749\n",
      "Epoch 15/50\n",
      "12/12 [==============================] - 33s 3s/step - loss: 0.0228 - accuracy: 0.9980 - val_loss: 1.3423 - val_accuracy: 0.6772\n",
      "Epoch 16/50\n",
      "12/12 [==============================] - 33s 3s/step - loss: 0.0237 - accuracy: 0.9977 - val_loss: 1.2566 - val_accuracy: 0.6927\n",
      "Epoch 17/50\n",
      "12/12 [==============================] - 33s 3s/step - loss: 0.0209 - accuracy: 0.9980 - val_loss: 1.2956 - val_accuracy: 0.6811\n",
      "Epoch 18/50\n",
      "12/12 [==============================] - 33s 3s/step - loss: 0.0209 - accuracy: 0.9977 - val_loss: 1.3305 - val_accuracy: 0.6726\n",
      "Epoch 19/50\n",
      "12/12 [==============================] - 33s 3s/step - loss: 0.0212 - accuracy: 0.9974 - val_loss: 1.3484 - val_accuracy: 0.6764\n",
      "Epoch 20/50\n",
      "12/12 [==============================] - 33s 3s/step - loss: 0.0172 - accuracy: 0.9990 - val_loss: 1.3544 - val_accuracy: 0.6633\n",
      "Epoch 21/50\n",
      "12/12 [==============================] - 33s 3s/step - loss: 0.0178 - accuracy: 0.9990 - val_loss: 1.3482 - val_accuracy: 0.6664\n",
      "Epoch 22/50\n",
      "12/12 [==============================] - 33s 3s/step - loss: 0.0158 - accuracy: 0.9983 - val_loss: 1.3669 - val_accuracy: 0.6664\n",
      "Epoch 23/50\n",
      "12/12 [==============================] - 33s 3s/step - loss: 0.0165 - accuracy: 0.9990 - val_loss: 1.3788 - val_accuracy: 0.6625\n",
      "Epoch 24/50\n",
      "12/12 [==============================] - 33s 3s/step - loss: 0.0166 - accuracy: 0.9983 - val_loss: 1.3501 - val_accuracy: 0.6927\n",
      "Epoch 25/50\n",
      "12/12 [==============================] - 33s 3s/step - loss: 0.0168 - accuracy: 0.9990 - val_loss: 1.3561 - val_accuracy: 0.6741\n",
      "Epoch 26/50\n",
      "12/12 [==============================] - 33s 3s/step - loss: 0.0165 - accuracy: 0.9983 - val_loss: 1.3553 - val_accuracy: 0.6896\n",
      "Epoch 27/50\n",
      "12/12 [==============================] - 33s 3s/step - loss: 0.0146 - accuracy: 0.9993 - val_loss: 1.3650 - val_accuracy: 0.6703\n",
      "Epoch 28/50\n",
      "12/12 [==============================] - 33s 3s/step - loss: 0.0159 - accuracy: 0.9980 - val_loss: 1.3728 - val_accuracy: 0.6772\n",
      "Epoch 29/50\n",
      "12/12 [==============================] - 33s 3s/step - loss: 0.0159 - accuracy: 0.9990 - val_loss: 1.3692 - val_accuracy: 0.6811\n",
      "Epoch 30/50\n",
      "12/12 [==============================] - 33s 3s/step - loss: 0.0192 - accuracy: 0.9977 - val_loss: 1.4086 - val_accuracy: 0.6695\n",
      "Epoch 31/50\n",
      "12/12 [==============================] - 33s 3s/step - loss: 0.0161 - accuracy: 0.9983 - val_loss: 1.4853 - val_accuracy: 0.6703\n",
      "Epoch 32/50\n",
      "12/12 [==============================] - 33s 3s/step - loss: 0.0170 - accuracy: 0.9974 - val_loss: 1.4637 - val_accuracy: 0.6625\n",
      "Epoch 33/50\n",
      "12/12 [==============================] - 33s 3s/step - loss: 0.0141 - accuracy: 0.9983 - val_loss: 1.3815 - val_accuracy: 0.6780\n",
      "Epoch 34/50\n",
      "12/12 [==============================] - 33s 3s/step - loss: 0.0143 - accuracy: 0.9993 - val_loss: 1.4107 - val_accuracy: 0.6741\n",
      "Epoch 35/50\n",
      "12/12 [==============================] - 33s 3s/step - loss: 0.0122 - accuracy: 0.9993 - val_loss: 1.4364 - val_accuracy: 0.6795\n",
      "Epoch 36/50\n",
      "12/12 [==============================] - 33s 3s/step - loss: 0.0145 - accuracy: 0.9980 - val_loss: 1.4202 - val_accuracy: 0.6625\n",
      "Epoch 37/50\n",
      "12/12 [==============================] - 33s 3s/step - loss: 0.0118 - accuracy: 0.9993 - val_loss: 1.4394 - val_accuracy: 0.6757\n",
      "Epoch 38/50\n",
      "12/12 [==============================] - 33s 3s/step - loss: 0.0115 - accuracy: 0.9993 - val_loss: 1.4381 - val_accuracy: 0.6811\n",
      "Epoch 39/50\n",
      "12/12 [==============================] - 33s 3s/step - loss: 0.0109 - accuracy: 1.0000 - val_loss: 1.3909 - val_accuracy: 0.6811\n",
      "Epoch 40/50\n",
      "12/12 [==============================] - 33s 3s/step - loss: 0.0110 - accuracy: 0.9987 - val_loss: 1.4028 - val_accuracy: 0.6958\n",
      "Epoch 41/50\n",
      "12/12 [==============================] - 33s 3s/step - loss: 0.0109 - accuracy: 0.9997 - val_loss: 1.3987 - val_accuracy: 0.6718\n",
      "Epoch 42/50\n",
      "12/12 [==============================] - 33s 3s/step - loss: 0.0114 - accuracy: 0.9997 - val_loss: 1.4784 - val_accuracy: 0.6718\n",
      "Epoch 43/50\n",
      "12/12 [==============================] - 33s 3s/step - loss: 0.0111 - accuracy: 0.9993 - val_loss: 1.4798 - val_accuracy: 0.6680\n",
      "Epoch 44/50\n",
      "12/12 [==============================] - 33s 3s/step - loss: 0.0103 - accuracy: 1.0000 - val_loss: 1.4243 - val_accuracy: 0.6764\n",
      "Epoch 45/50\n",
      "12/12 [==============================] - 33s 3s/step - loss: 0.0109 - accuracy: 0.9993 - val_loss: 1.4402 - val_accuracy: 0.6749\n",
      "Epoch 46/50\n",
      "12/12 [==============================] - 33s 3s/step - loss: 0.0097 - accuracy: 0.9993 - val_loss: 1.4362 - val_accuracy: 0.6772\n",
      "Epoch 47/50\n",
      "12/12 [==============================] - 33s 3s/step - loss: 0.0105 - accuracy: 0.9990 - val_loss: 1.4732 - val_accuracy: 0.6819\n",
      "Epoch 48/50\n",
      "12/12 [==============================] - 33s 3s/step - loss: 0.0119 - accuracy: 0.9993 - val_loss: 1.4459 - val_accuracy: 0.6710\n",
      "Epoch 49/50\n",
      "12/12 [==============================] - 33s 3s/step - loss: 0.0142 - accuracy: 0.9983 - val_loss: 1.4701 - val_accuracy: 0.6734\n",
      "Epoch 50/50\n",
      "12/12 [==============================] - 33s 3s/step - loss: 0.0095 - accuracy: 0.9997 - val_loss: 1.4646 - val_accuracy: 0.6811\n"
     ]
    }
   ],
   "source": [
    "history = new_model.fit_generator(train_generator, epochs=50, verbose=1, callbacks=None,validation_data=valid_generator)"
   ]
  },
  {
   "cell_type": "code",
   "execution_count": null,
   "id": "eacaf426",
   "metadata": {},
   "outputs": [],
   "source": [
    "new_model.save('flowers_classification_retrain.h5')"
   ]
  }
 ],
 "metadata": {
  "kernelspec": {
   "display_name": "Python 3",
   "language": "python",
   "name": "python3"
  },
  "language_info": {
   "codemirror_mode": {
    "name": "ipython",
    "version": 3
   },
   "file_extension": ".py",
   "mimetype": "text/x-python",
   "name": "python",
   "nbconvert_exporter": "python",
   "pygments_lexer": "ipython3",
   "version": "3.8.8"
  }
 },
 "nbformat": 4,
 "nbformat_minor": 5
}
